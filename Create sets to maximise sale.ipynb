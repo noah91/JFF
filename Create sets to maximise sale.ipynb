{
 "cells": [
  {
   "cell_type": "code",
   "execution_count": 1,
   "metadata": {},
   "outputs": [],
   "source": [
    "import pandas as pd\n",
    "import numpy as np\n",
    "import copy"
   ]
  },
  {
   "cell_type": "code",
   "execution_count": 214,
   "metadata": {},
   "outputs": [
    {
     "data": {
      "text/plain": [
       "['BOM', 'Inventory Qty']"
      ]
     },
     "execution_count": 214,
     "metadata": {},
     "output_type": "execute_result"
    }
   ],
   "source": [
    "file = pd.ExcelFile('https://github.com/noah91/JFF/blob/master/data_sets_sale.xlsx?raw=true')\n",
    "file.sheet_names"
   ]
  },
  {
   "cell_type": "code",
   "execution_count": 215,
   "metadata": {
    "collapsed": true
   },
   "outputs": [
    {
     "name": "stdout",
     "output_type": "stream",
     "text": [
      "421639\n",
      "PARENT_SKU\n",
      "65096     5\n",
      "65068     0\n",
      "65099     0\n",
      "65095     0\n",
      "65070     0\n",
      "65065     0\n",
      "65069     0\n",
      "65090     1\n",
      "65097     7\n",
      "65079     0\n",
      "65074     0\n",
      "65071     0\n",
      "65064     0\n",
      "65072    16\n",
      "65098     0\n",
      "65073     0\n",
      "65063     0\n",
      "65093     0\n",
      "65076    26\n",
      "65077     0\n",
      "65075     0\n",
      "65080     0\n",
      "65089     0\n",
      "65078     0\n",
      "65066     0\n",
      "65100     0\n",
      "65081     0\n",
      "65083     0\n",
      "65091     0\n",
      "65082     0\n",
      "65101     0\n",
      "65085     0\n",
      "65092     0\n",
      "65067     0\n",
      "65094     0\n",
      "65084     0\n",
      "65087     0\n",
      "65086     0\n",
      "65088     0\n",
      "dtype: int64\n"
     ]
    }
   ],
   "source": [
    "df = file.parse('BOM')\n",
    "inventory = file.parse('Inventory Qty')\n",
    "\n",
    "\n",
    "df.drop(columns=['SET_DESCRIPTION','CHILD_DESCRIPTION'],inplace=True)\n",
    "    \n",
    "df['price'] = df.loc[:,'QUANTITY_CHILD_SKU']*df.loc[:,'Child Unit Price']\n",
    "    \n",
    "df.set_index('PARENT_SKU',drop=False,inplace=True)\n",
    "    \n",
    "priority_order = df.groupby(df.index).sum().sort_values(by= 'price',ascending = False).index\n",
    "\n",
    "in_copy = copy.deepcopy(inventory)\n",
    "\n",
    "List = []    \n",
    "for i in order:\n",
    "    x = df.loc[i]\n",
    "    x = x.set_index('CHILD_SKU').loc[:,'QUANTITY_CHILD_SKU']\n",
    "    y = in_copy.set_index('CHILD_SKU')\n",
    "    y = y.loc[x.index,'Available Inventory']\n",
    "    no_sets = int((y/x).min())\n",
    "    in_copy = copy.deepcopy(in_copy)\n",
    "    in_copy.set_index('CHILD_SKU',inplace=True)\n",
    "    in_copy.loc[x.index,'Available Inventory']  -= no_sets*x\n",
    "    in_copy.reset_index(level = 0, inplace=True)\n",
    "    List.append(no_sets)\n",
    "    \n",
    "final = pd.Series(data= List, index = priority_order)\n",
    "t = df.groupby(df.index).sum().sort_values(by= 'price',ascending = False)\n",
    "final_sale_value = (pd.Series(data= List, index = priority_order) * t.price).sum()\n",
    "print(final_sale_value)\n",
    "print(final)"
   ]
  }
 ],
 "metadata": {
  "kernelspec": {
   "display_name": "Python 3",
   "language": "python",
   "name": "python3"
  },
  "language_info": {
   "codemirror_mode": {
    "name": "ipython",
    "version": 3
   },
   "file_extension": ".py",
   "mimetype": "text/x-python",
   "name": "python",
   "nbconvert_exporter": "python",
   "pygments_lexer": "ipython3",
   "version": "3.7.0"
  }
 },
 "nbformat": 4,
 "nbformat_minor": 2
}
